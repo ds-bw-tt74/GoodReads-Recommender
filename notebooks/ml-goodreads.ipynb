{
 "cells": [
  {
   "cell_type": "markdown",
   "metadata": {},
   "source": [
    "# GoodReads ML Recommendations\n",
    "\n",
    "## About\n",
    "- _Description of plan/approach_"
   ]
  },
  {
   "cell_type": "markdown",
   "metadata": {},
   "source": [
    "### Ingest data\n",
    "- Where did the data come from\n",
    "- What was done during intake of data\n",
    "- Initial cleaning steps taken at intake of data\n",
    "\n",
    "#### All Imports"
   ]
  },
  {
   "cell_type": "code",
   "execution_count": 1,
   "metadata": {
    "pycharm": {
     "name": "#%%\n"
    }
   },
   "outputs": [],
   "source": [
    "import os\n",
    "import numpy as np\n",
    "import pandas as pd\n",
    "from kaggle.api.kaggle_api_extended import KaggleApi"
   ]
  },
  {
   "cell_type": "markdown",
   "metadata": {},
   "source": [
    "#### Load Kaggle data with Kaggle API\n",
    "- [Follow these instructions](https://python.plainenglish.io/how-to-use-the-kaggle-api-in-python-4d4c812c39c7) to get `kaggle.json` API key.\n",
    "    - Read the error to find where `.kaggle/kaggle.json` file should go."
   ]
  },
  {
   "cell_type": "code",
   "execution_count": 2,
   "metadata": {
    "pycharm": {
     "name": "#%%\n"
    }
   },
   "outputs": [
    {
     "name": "stdout",
     "output_type": "stream",
     "text": [
      "zsh:1: no matches found: user_rating_*.csv\r\n"
     ]
    }
   ],
   "source": [
    "# Kaggle API authentication\n",
    "api = KaggleApi()\n",
    "api.authenticate()\n",
    "\n",
    "# Download and unzip all files\n",
    "api.dataset_download_files('bahramjannesarr/goodreads-book-datasets-10m',\n",
    "                           path='./data',\n",
    "                           unzip=True)\n",
    "\n",
    "# Remove `user_rating` data files\n",
    "!rm data/user_rating_*.csv"
   ]
  },
  {
   "cell_type": "markdown",
   "source": [
    "#### Combine into one large dataset\n",
    "All books "
   ],
   "metadata": {
    "collapsed": false,
    "pycharm": {
     "name": "#%% md\n"
    }
   }
  },
  {
   "cell_type": "code",
   "execution_count": null,
   "outputs": [],
   "source": [],
   "metadata": {
    "collapsed": false,
    "pycharm": {
     "name": "#%%\n"
    }
   }
  }
 ],
 "metadata": {
  "kernelspec": {
   "display_name": "Python 3",
   "language": "python",
   "name": "python3"
  },
  "language_info": {
   "codemirror_mode": {
    "name": "ipython",
    "version": 3
   },
   "file_extension": ".py",
   "mimetype": "text/x-python",
   "name": "python",
   "nbconvert_exporter": "python",
   "pygments_lexer": "ipython3",
   "version": "3.9.0"
  }
 },
 "nbformat": 4,
 "nbformat_minor": 1
}